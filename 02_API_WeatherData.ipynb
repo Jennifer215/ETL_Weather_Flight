{
 "cells": [
  {
   "cell_type": "markdown",
   "id": "bfa1489d-eab1-412f-b325-39ddb84646e1",
   "metadata": {},
   "source": [
    "# API - Weather Data"
   ]
  },
  {
   "cell_type": "markdown",
   "id": "511647b5",
   "metadata": {},
   "source": [
    "## 1. Retrieve city data from MySQL database"
   ]
  },
  {
   "cell_type": "code",
   "execution_count": null,
   "id": "30c4e905",
   "metadata": {},
   "outputs": [],
   "source": [
    "# import libraries\n",
    "import pandas as pd\n",
    "import requests\n",
    "from sqlalchemy import create_engine, text\n",
    "import os\n",
    "from dotenv import load_dotenv\n",
    "load_dotenv()\n",
    "from datetime import datetime"
   ]
  },
  {
   "cell_type": "code",
   "execution_count": null,
   "id": "d6258616",
   "metadata": {},
   "outputs": [],
   "source": [
    "# Connection setup MySQL\n",
    "schema = \"city_infos\"\n",
    "host = \"127.0.0.1\"\n",
    "user = \"root\"\n",
    "password = os.getenv(\"MYSQL_PASSWORD\") # password = \"YOUR_PASSWORD\"\n",
    "port = 3306\n",
    "\n",
    "# Create connection string for MySQL\n",
    "connection_string = f'mysql+pymysql://{user}:{password}@{host}:{port}/{schema}'\n",
    "\n",
    "# Connection for API\n",
    "key = os.getenv(\"OPENWEATHERMAP_API_KEY\") # key = \"YOUR_OPENWEATHERMAP_API_KEY\""
   ]
  },
  {
   "cell_type": "code",
   "execution_count": null,
   "id": "327291e5-5b21-43d7-8dec-5034ae154191",
   "metadata": {},
   "outputs": [],
   "source": [
    "# retrieve city data\n",
    "cities_df = pd.read_sql('cities', con=connection_string)\n",
    "cities_df"
   ]
  },
  {
   "cell_type": "markdown",
   "id": "8527e5d3",
   "metadata": {},
   "source": [
    "## 2. API call for weather data"
   ]
  },
  {
   "cell_type": "markdown",
   "id": "cc67de3c",
   "metadata": {},
   "source": [
    "### Explore response for one city"
   ]
  },
  {
   "cell_type": "code",
   "execution_count": null,
   "id": "4596ade7-393c-400b-a167-d3bd35c1c838",
   "metadata": {},
   "outputs": [],
   "source": [
    "# retrieve weather data for Berlin from OpenWeather API (3h forecast for the next 5 days)\n",
    "\n",
    "# pick latitude, longitude for Berlin example\n",
    "lat = cities_df.loc[0,'latitude']\n",
    "lon = cities_df.loc[0,'longitude']\n",
    "\n",
    "URL = f\"https://api.openweathermap.org/data/2.5/forecast?lat={lat}&lon={lon}&appid={key}&units=metric\"\n",
    "berlin_response = requests.get(URL)"
   ]
  },
  {
   "cell_type": "code",
   "execution_count": null,
   "id": "c24c6643",
   "metadata": {},
   "outputs": [],
   "source": [
    "# Transform the response for exploration\n",
    "berlin_response_json = berlin_response.json()\n",
    "#berlin_response_json"
   ]
  },
  {
   "cell_type": "code",
   "execution_count": null,
   "id": "0438870a",
   "metadata": {},
   "outputs": [],
   "source": [
    "# check which keys are available\n",
    "berlin_response_json.keys()"
   ]
  },
  {
   "cell_type": "code",
   "execution_count": null,
   "id": "989f1f05",
   "metadata": {},
   "outputs": [],
   "source": [
    "# exploring how to extract the weather data\n",
    "berlin_response_json['list'][0]['main']"
   ]
  },
  {
   "cell_type": "code",
   "execution_count": null,
   "id": "e5170aae",
   "metadata": {},
   "outputs": [],
   "source": [
    "# for each entry there is a date and the corresponding weather data\n",
    "for entry in berlin_response_json['list']:\n",
    "    print(entry['dt_txt'])  # get the date & time\n",
    "    print(entry['weather'][0]['description'])\n",
    "    print(entry['main']['temp'])\n",
    "    print(entry['wind']['speed'])\n",
    "    print(entry['pop'])"
   ]
  },
  {
   "cell_type": "code",
   "execution_count": null,
   "id": "bbd5274a",
   "metadata": {},
   "outputs": [],
   "source": [
    "# create data frame for the extracted weather data for Berlin (3h forecast for the next 5 days)\n",
    "berlin_weather_data = []\n",
    "\n",
    "for entry in berlin_response_json.get(\"list\", []): # Use .get() to avoid errors \n",
    "    weather_entry = {\n",
    "        \"city_id\": 1,    # for Berlin Example\n",
    "        \"time\": entry.get(\"dt_txt\", None),\n",
    "        \"weather\": entry.get(\"weather\", [{}])[0].get(\"description\", None),\n",
    "        \"temperature_c\": entry.get(\"main\", {}).get(\"temp\", None),\n",
    "        \"wind_speed_m_s\": entry.get(\"wind\", {}).get(\"speed\", None),\n",
    "        \"rain_probability\": entry.get(\"pop\", 0),\n",
    "        \"retrieval_time\": datetime.today().strftime(\"%Y-%m-%d %H:%M:%S\") # add retrieval time\n",
    "    }\n",
    "    berlin_weather_data.append(weather_entry)\n",
    "\n",
    "berlin_weather_df = pd.DataFrame(berlin_weather_data)\n",
    "berlin_weather_df.head()"
   ]
  },
  {
   "cell_type": "markdown",
   "id": "96ff7b36",
   "metadata": {},
   "source": [
    "### Create function for multiple cities"
   ]
  },
  {
   "cell_type": "code",
   "execution_count": null,
   "id": "89d8a0cc",
   "metadata": {},
   "outputs": [],
   "source": [
    "cities_df"
   ]
  },
  {
   "cell_type": "code",
   "execution_count": null,
   "id": "4294aeac",
   "metadata": {},
   "outputs": [],
   "source": [
    "# create function to collect weather data for cities_df\n",
    "\n",
    "# import libraries\n",
    "import pandas as pd\n",
    "import requests\n",
    "from sqlalchemy import create_engine, text\n",
    "import os\n",
    "from dotenv import load_dotenv\n",
    "load_dotenv()\n",
    "from datetime import datetime\n",
    "\n",
    "# Connection setup MySQL\n",
    "schema = \"city_infos\"\n",
    "host = \"127.0.0.1\"\n",
    "user = \"root\"\n",
    "password = os.getenv(\"MYSQL_PASSWORD\") # password = \"YOUR_PASSWORD\"\n",
    "port = 3306\n",
    "\n",
    "# Create connection string for MySQL\n",
    "connection_string = f'mysql+pymysql://{user}:{password}@{host}:{port}/{schema}'\n",
    "\n",
    "# Connection for API\n",
    "key = os.getenv(\"OPENWEATHERMAP_API_KEY\") # key = \"YOUR_OPENWEATHERMAP_API_KEY\"\n",
    "\n",
    "def get_weather (cities):\n",
    "    \n",
    "    weather_data = []   # retrieve data for all cities\n",
    "\n",
    "    for i, row in cities.iterrows():\n",
    "        URL = f\"https://api.openweathermap.org/data/2.5/forecast?lat={row['latitude']}&lon={row['longitude']}&appid={key}&units=metric\"\n",
    "        response = requests.get(URL)\n",
    "        if response.status_code == 200:     # Only extract data if call was successful\n",
    "            response_json = response.json()\n",
    "\n",
    "            for entry in response_json.get(\"list\", []):\n",
    "                weather_entry = {\n",
    "                    \"city_id\": row['city_id'],\n",
    "                    \"time\": entry.get(\"dt_txt\", None),\n",
    "                    \"weather\": entry.get(\"weather\", [{}])[0].get(\"description\", None),\n",
    "                    \"temperature_c\": float(entry.get(\"main\", {}).get(\"temp\", None)),\n",
    "                    \"wind_speed_m_s\": float(entry.get(\"wind\", {}).get(\"speed\", None)),\n",
    "                    \"rain_probability\": float(entry.get(\"pop\", 0)),\n",
    "                    \"retrieval_time\": datetime.today().strftime(\"%Y-%m-%d %H:%M:%S\")\n",
    "                }\n",
    "                weather_data.append(weather_entry) \n",
    "            weather_df = pd.DataFrame(weather_data)\n",
    "            weather_df['time'] = pd.to_datetime(weather_df['time'])     # convert to datetime\n",
    "            weather_df['retrieval_time'] = pd.to_datetime(weather_df['retrieval_time']) # convert to datetime\n",
    "\n",
    "        else:\n",
    "            print(f\"Error {response.status_code} at {row['id']}\") # error handling\n",
    "\n",
    "    return(weather_df)"
   ]
  },
  {
   "cell_type": "code",
   "execution_count": null,
   "id": "4a9eb7de",
   "metadata": {},
   "outputs": [],
   "source": [
    "# get cities_df from MySQL database\n",
    "cities_df = pd.read_sql('cities', con=connection_string)\n",
    "\n",
    "# call get_weather function\n",
    "weather_df = get_weather(cities_df)"
   ]
  },
  {
   "cell_type": "code",
   "execution_count": null,
   "id": "5c5f23b7",
   "metadata": {},
   "outputs": [],
   "source": [
    "weather_df"
   ]
  },
  {
   "cell_type": "code",
   "execution_count": null,
   "id": "59d4fc4e",
   "metadata": {},
   "outputs": [],
   "source": [
    "weather_df.info()"
   ]
  },
  {
   "cell_type": "markdown",
   "id": "482d6772",
   "metadata": {},
   "source": [
    "## 3. Send weather data to MySQL database"
   ]
  },
  {
   "cell_type": "code",
   "execution_count": null,
   "id": "dadb58d5",
   "metadata": {},
   "outputs": [],
   "source": [
    "weather_df.to_sql('weather',\n",
    "                 if_exists='append',\n",
    "                 index=False,\n",
    "                 con=connection_string)"
   ]
  }
 ],
 "metadata": {
  "kernelspec": {
   "display_name": "dsenv",
   "language": "python",
   "name": "python3"
  },
  "language_info": {
   "codemirror_mode": {
    "name": "ipython",
    "version": 3
   },
   "file_extension": ".py",
   "mimetype": "text/x-python",
   "name": "python",
   "nbconvert_exporter": "python",
   "pygments_lexer": "ipython3",
   "version": "3.13.0"
  }
 },
 "nbformat": 4,
 "nbformat_minor": 5
}
