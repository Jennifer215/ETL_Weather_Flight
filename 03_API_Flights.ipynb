{
 "cells": [
  {
   "cell_type": "markdown",
   "id": "35852fab-81a9-4f67-a3e0-c07c04f6a484",
   "metadata": {},
   "source": [
    "# API - Airports / Flights"
   ]
  },
  {
   "cell_type": "markdown",
   "id": "f02c692a",
   "metadata": {},
   "source": [
    "## 1. Retrieve city data from MySQL database"
   ]
  },
  {
   "cell_type": "code",
   "execution_count": null,
   "id": "acb10f8d",
   "metadata": {},
   "outputs": [],
   "source": [
    "# import libraries\n",
    "import pandas as pd\n",
    "import requests\n",
    "from sqlalchemy import create_engine, text\n",
    "import os\n",
    "from dotenv import load_dotenv\n",
    "load_dotenv()\n",
    "from datetime import datetime, timedelta\n",
    "from pytz import timezone"
   ]
  },
  {
   "cell_type": "code",
   "execution_count": null,
   "id": "01ebaf0e-f062-4867-9785-d1b18fd4f0d9",
   "metadata": {},
   "outputs": [],
   "source": [
    "# Connection setup MySQL\n",
    "schema = \"city_infos\"\n",
    "host = \"127.0.0.1\"\n",
    "user = \"root\"\n",
    "password = os.getenv(\"MYSQL_PASSWORD\") # password = \"YOUR_PASSWORD\"\n",
    "port = 3306\n",
    "\n",
    "# Create connection string for MySQL\n",
    "connection_string = f'mysql+pymysql://{user}:{password}@{host}:{port}/{schema}'\n",
    "\n",
    "# Connection for API\n",
    "rapidapi_key = os.getenv(\"RapidAPI-Key\")    # rapidapi_key = \"YOUR_RAPIDAPI_KEY\""
   ]
  },
  {
   "cell_type": "code",
   "execution_count": null,
   "id": "d4f60e68",
   "metadata": {},
   "outputs": [],
   "source": [
    "cities_df = pd.read_sql('cities', con=connection_string)\n",
    "cities_df[['latitude','longitude']] = cities_df[['latitude','longitude']].round(2)\n",
    "cities_df"
   ]
  },
  {
   "cell_type": "markdown",
   "id": "15ec7c94",
   "metadata": {},
   "source": [
    "## 2. API call for airport data"
   ]
  },
  {
   "cell_type": "markdown",
   "id": "ed75e993",
   "metadata": {},
   "source": [
    "### Explore response for one city"
   ]
  },
  {
   "cell_type": "code",
   "execution_count": null,
   "id": "a13695d4",
   "metadata": {},
   "outputs": [],
   "source": [
    "# pick latitude, longitude for Berlin example\n",
    "lat = cities_df.loc[0,'latitude']\n",
    "lon = cities_df.loc[0,'longitude']\n",
    "\n",
    "url = \"https://aerodatabox.p.rapidapi.com/airports/search/location\"\n",
    "\n",
    "headers = {\n",
    "    \t\"X-RapidAPI-Key\": rapidapi_key,\n",
    "        \"x-rapidapi-host\": \"aerodatabox.p.rapidapi.com\"\n",
    "}\n",
    "\n",
    "querystring = {\n",
    "    \"lat\": f\"{lat}\",\n",
    "    \"lon\": f\"{lon}\",\n",
    "    \"radiusKm\": \"50\",\n",
    "    \"limit\": \"10\",\n",
    "    \"withFlightInfoOnly\": \"true\"\n",
    "}\n",
    "\n",
    "berlin_response = requests.get(url, headers=headers, params=querystring)\n",
    "\n",
    "berlin_response_json = berlin_response.json()\n",
    "berlin_response_json"
   ]
  },
  {
   "cell_type": "code",
   "execution_count": null,
   "id": "920bc81f",
   "metadata": {},
   "outputs": [],
   "source": [
    "berlin_response_json.keys() "
   ]
  },
  {
   "cell_type": "code",
   "execution_count": null,
   "id": "1c9bf896",
   "metadata": {},
   "outputs": [],
   "source": [
    "pd.json_normalize(berlin_response_json['items'])"
   ]
  },
  {
   "cell_type": "markdown",
   "id": "68752d37",
   "metadata": {},
   "source": [
    "### Create function for multiple cities"
   ]
  },
  {
   "cell_type": "code",
   "execution_count": null,
   "id": "542795af",
   "metadata": {},
   "outputs": [],
   "source": [
    "# define function for airport data for multiple cities\n",
    "\n",
    "import pandas as pd\n",
    "import requests\n",
    "from dotenv import load_dotenv\n",
    "import os\n",
    "load_dotenv()\n",
    "\n",
    "# Connection for API\n",
    "rapidapi_key = os.getenv(\"RapidAPI-Key\")    # rapidapi_key = \"YOUR_RAPIDAPI_KEY\"\n",
    "\n",
    "def get_airports(cities_df):\n",
    "    url = \"https://aerodatabox.p.rapidapi.com/airports/search/location\"\n",
    "\n",
    "    headers = {\n",
    "            \"X-RapidAPI-Key\": rapidapi_key,\n",
    "            \"x-rapidapi-host\": \"aerodatabox.p.rapidapi.com\"\n",
    "    }\n",
    "\n",
    "    all_results =[]\n",
    "\n",
    "    for i, row in cities_df.iterrows():\n",
    "        lat = row['latitude']\n",
    "        lon = row['longitude']\n",
    "        city_id = row['city_id']\n",
    "\n",
    "        querystring = {\n",
    "            \"lat\": str(lat),\n",
    "            \"lon\": str(lon),\n",
    "            \"radiusKm\": \"50\",\n",
    "            \"limit\": \"10\",\n",
    "            \"withFlightInfoOnly\": \"true\"\n",
    "        }\n",
    "        response = requests.get(url, headers=headers, params=querystring)\n",
    "        if response.status_code == 200:\n",
    "            data = response.json()\n",
    "            city_results = data.get(\"items\", [])\n",
    "\n",
    "            for airport in city_results:     # Add city_id to each airport\n",
    "                airport['city_id'] = city_id\n",
    "                all_results.append(airport)\n",
    "        else:\n",
    "            print(f\"Error {response.status_code} at {row['id']}\") # error handling\n",
    "\n",
    "    airports_df = pd.DataFrame(all_results)\n",
    "    airports_df = airports_df[['city_id','name','iata','icao']] # select the info needed\n",
    "    airports_df = airports_df.rename(columns={'name':'airport_name'})\n",
    "\n",
    "    return airports_df"
   ]
  },
  {
   "cell_type": "code",
   "execution_count": null,
   "id": "dee1f24f",
   "metadata": {},
   "outputs": [],
   "source": [
    "# call the function with cities_df\n",
    "airports_df = get_airports(cities_df)\n",
    "airports_df"
   ]
  },
  {
   "cell_type": "code",
   "execution_count": null,
   "id": "561520e9",
   "metadata": {},
   "outputs": [],
   "source": [
    "airports_df.info()"
   ]
  },
  {
   "cell_type": "markdown",
   "id": "353af702",
   "metadata": {},
   "source": [
    "### Send data to MySQL airports table"
   ]
  },
  {
   "cell_type": "code",
   "execution_count": null,
   "id": "12d6e714",
   "metadata": {},
   "outputs": [],
   "source": [
    "airports_df.to_sql('airports',\n",
    "                 if_exists='append',\n",
    "                 index=False,\n",
    "                 con=connection_string\n",
    ")"
   ]
  },
  {
   "cell_type": "markdown",
   "id": "0e7bfd5f-0187-4065-897d-0c28959ba0ab",
   "metadata": {},
   "source": [
    "## 3. API call for flight data"
   ]
  },
  {
   "cell_type": "code",
   "execution_count": null,
   "id": "6ed073f3",
   "metadata": {},
   "outputs": [],
   "source": [
    "# Retrieve airport_df from MySQL database\n",
    "airports_df = pd.read_sql(\"SELECT * FROM airports\", con=connection_string)\n",
    "airports_df"
   ]
  },
  {
   "cell_type": "markdown",
   "id": "e53305b4",
   "metadata": {},
   "source": [
    "### Explore response for one airport & one time frame"
   ]
  },
  {
   "cell_type": "code",
   "execution_count": null,
   "id": "3a19e9cf-692c-45ec-a38d-13a1703ec95d",
   "metadata": {
    "scrolled": true
   },
   "outputs": [],
   "source": [
    "# retrieve flight data for Berlin airport from AeroDataBox API\n",
    "\n",
    "# request for 00:00-11:59 o'clock of the next day (only 12 hour range possible)\n",
    "\n",
    "icao = \"EDDB\"    # using icao code for the airbort\n",
    "tomorrow = datetime.now() + timedelta(days=1)\n",
    "date = tomorrow.strftime('%Y-%m-%d')  # date of the next day\n",
    "time_1 = \"00:00\"\n",
    "time_2 = \"11:59\"\n",
    "\n",
    "url = f\"https://aerodatabox.p.rapidapi.com/flights/airports/icao/{icao}/{date}T{time_1}/{date}T{time_2}\"\n",
    "\n",
    "# setting query parameters\n",
    "querystring = {\"withLeg\":\"true\",\"direction\":\"Arrival\",\"withCancelled\":\"false\",\"withCodeshared\":\"true\",\"withCargo\":\"false\",\"withPrivate\":\"false\",\"withLocation\":\"false\"}\n",
    "\n",
    "headers = {\n",
    "    \"X-RapidAPI-Key\": rapidapi_key,\n",
    "    \"x-rapidapi-host\": \"aerodatabox.p.rapidapi.com\"\n",
    "}\n",
    "\n",
    "response1 = requests.get(url, headers=headers, params=querystring)"
   ]
  },
  {
   "cell_type": "code",
   "execution_count": null,
   "id": "df80d85c-e03d-4b07-83e8-62cfcbc3f4cc",
   "metadata": {},
   "outputs": [],
   "source": [
    "# check keys for example response1\n",
    "flights_json_1 = response1.json()\n",
    "flights_json_1.keys()"
   ]
  },
  {
   "cell_type": "code",
   "execution_count": null,
   "id": "ea768662-d4bc-49fb-88d4-c81439865063",
   "metadata": {
    "scrolled": true
   },
   "outputs": [],
   "source": [
    "#flights_json_1['arrivals']"
   ]
  },
  {
   "cell_type": "code",
   "execution_count": null,
   "id": "8e386034",
   "metadata": {},
   "outputs": [],
   "source": [
    "#  noamalize the table\n",
    "normalized_table_1 = pd.json_normalize(flights_json_1['arrivals'])"
   ]
  },
  {
   "cell_type": "code",
   "execution_count": null,
   "id": "b2b6915a",
   "metadata": {},
   "outputs": [],
   "source": [
    "normalized_table_1.columns"
   ]
  },
  {
   "cell_type": "code",
   "execution_count": null,
   "id": "6b9b03c1-305f-4fa3-b211-37d998cf87a4",
   "metadata": {},
   "outputs": [],
   "source": [
    "flights_json_1[\"arrivals\"][0].keys()"
   ]
  },
  {
   "cell_type": "code",
   "execution_count": null,
   "id": "7eca8224-8635-40cf-a2f4-5901ed0d5160",
   "metadata": {},
   "outputs": [],
   "source": [
    "# extract relevant data for response1 for icao 'EDDB'\n",
    "icao = \"EDDB\"\n",
    "flight_items = []\n",
    "\n",
    "for item in flights_json_1.get(\"arrivals\", []): # Safely get 'arrivals'\n",
    "    flight_item = {\n",
    "        \"arrival_airport_icao\": icao,   # for example icao 'EDDB'\n",
    "        \"departure_airport_icao\": item[\"departure\"][\"airport\"].get(\"icao\", None),\n",
    "        \"scheduled_arrival_time\": item[\"arrival\"][\"scheduledTime\"].get(\"local\", None),\n",
    "        \"revised_arrival_time\": item[\"arrival\"][\"revisedTime\"].get(\"local\", None), # 'revised time' could be empty\n",
    "        \"arrival_terminal\": item[\"arrival\"].get(\"terminal\", None),\n",
    "        \"arrival_gate\": item[\"arrival\"].get(\"gate\", None),\n",
    "        \"flight_number\": item.get(\"number\", None)\n",
    "    }\n",
    "\n",
    "    flight_items.append(flight_item)\n",
    "    flights1_df = pd.DataFrame(flight_items)\n",
    "\n",
    "flights1_df.head()"
   ]
  },
  {
   "cell_type": "code",
   "execution_count": null,
   "id": "c8fd786f-15c1-4cc9-b059-4062a3775d9a",
   "metadata": {},
   "outputs": [],
   "source": [
    "# remove UTC for times\n",
    "flights1_df[\"scheduled_arrival_time\"] = flights1_df[\"scheduled_arrival_time\"].str[:-6]\n",
    "flights1_df[\"revised_arrival_time\"] = flights1_df[\"revised_arrival_time\"].str[:-6]\n",
    "flights1_df.head()"
   ]
  },
  {
   "cell_type": "markdown",
   "id": "bb80c144-c20d-4ae0-bcdc-235fdd8a8653",
   "metadata": {},
   "source": [
    "### Create function for multiple airports and defined time frame"
   ]
  },
  {
   "cell_type": "code",
   "execution_count": null,
   "id": "924731be",
   "metadata": {},
   "outputs": [],
   "source": [
    "# define function for retrieval of flight data for airports_df for the defined next days from now\n",
    "\n",
    "# import libraries\n",
    "import pandas as pd\n",
    "import requests\n",
    "from sqlalchemy import create_engine, text\n",
    "import os\n",
    "from dotenv import load_dotenv\n",
    "load_dotenv()\n",
    "from datetime import datetime, timedelta\n",
    "from pytz import timezone\n",
    "import time as _time\n",
    "\n",
    "# Connection setup MySQL\n",
    "schema = \"city_infos\"\n",
    "host = \"127.0.0.1\"\n",
    "user = \"root\"\n",
    "password = os.getenv(\"MYSQL_PASSWORD\") # password = \"YOUR_PASSWORD\"\n",
    "port = 3306\n",
    "\n",
    "# Create connection string for MySQL\n",
    "connection_string = f'mysql+pymysql://{user}:{password}@{host}:{port}/{schema}'\n",
    "\n",
    "# Connection for API\n",
    "rapidapi_key = os.getenv(\"RapidAPI-Key\")    # rapidapi_key = \"YOUR_RAPIDAPI_KEY\"\n",
    "\n",
    "\n",
    "def get_flight_data(airports_df, days=2): # set how many days ahead to pull data (incl. today)\n",
    "\n",
    "    # define timezone and current local time\n",
    "    tz_name='Europe/Berlin'\n",
    "    local_tz = timezone(tz_name)\n",
    "    now_local = datetime.now(local_tz)\n",
    "\n",
    "    # build time windows with defined days and current local time\n",
    "    intervals = []\n",
    "\n",
    "    for d in range(days):    # iterate over the days\n",
    "        day_date = now_local.date() + timedelta(days=d)\n",
    "        day_str = day_date.strftime('%Y-%m-%d')\n",
    "\n",
    "        if d == 0:  # today - start from current time\n",
    "            \n",
    "            if now_local.hour < 12:     # current time before noon\n",
    "                intervals.append((      # first interval\n",
    "                    f'{day_str}T{now_local.strftime('%H:%M')}',\n",
    "                    f'{day_str}T11:59'\n",
    "                ))\n",
    "                intervals.append((f'{day_str})T12:00', f'{day_str}T23:59')) # second interval\n",
    "            else:\n",
    "                intervals.append((  # current time after noon\n",
    "                    f'{day_str}T{now_local.strftime('%H:%M')}',\n",
    "                    f'{day_str}T23:59'\n",
    "                ))\n",
    "        else:   # next days (full days)\n",
    "            intervals.append((f\"{day_str}T00:00\", f\"{day_str}T11:59\"))\n",
    "            intervals.append((f\"{day_str}T12:00\", f\"{day_str}T23:59\"))\n",
    "\n",
    "    # define sleep time between requests\n",
    "    sleep_s=1\n",
    "\n",
    "\n",
    "    flight_items = []\n",
    "\n",
    "    for i, row in airports_df.iterrows():   # iteration over airport_df icao codes\n",
    "\n",
    "        for start_time, end_time in intervals:  # iteration over the time windows (list of tubles)\n",
    "            url = f\"https://aerodatabox.p.rapidapi.com/flights/airports/icao/{row['icao']}/{start_time}/{end_time}\"\n",
    "        \n",
    "            querystring = {\n",
    "                \"withLeg\": \"true\",\n",
    "                \"direction\": \"Arrival\",\n",
    "                \"withCancelled\": \"false\",\n",
    "                \"withCodeshared\": \"true\",\n",
    "                \"withCargo\": \"false\",\n",
    "                \"withPrivate\": \"false\",\n",
    "                \"withLocation\":\"false\"\n",
    "            }\n",
    "            headers = {\n",
    "                'x-rapidapi-host': \"aerodatabox.p.rapidapi.com\",\n",
    "                'x-rapidapi-key': rapidapi_key\n",
    "            }\n",
    "            response = requests.get(url, headers=headers, params=querystring)\n",
    "        \n",
    "            if response.status_code == 200:\n",
    "                flights_json = response.json()\n",
    "                \n",
    "                # add retrieval_time for flight data\n",
    "                retrieval_time = datetime.now(local_tz).strftime(\"%Y-%m-%d %H:%M:%S\")\n",
    "            \n",
    "                for item in flights_json.get(\"arrivals\", []):  # Safely get 'arrivals'\n",
    "                    flight_item = {\n",
    "                        \"arrival_airport_icao\": row['icao'],\n",
    "                        \"departure_airport_icao\": item[\"departure\"][\"airport\"].get(\"icao\", None),\n",
    "                        \"scheduled_arrival_time\": item[\"arrival\"][\"scheduledTime\"].get(\"local\", None),\n",
    "                        \"revised_arrival_time\": item[\"arrival\"].get(\"revisedTime\", {}).get(\"local\", None), # 'revised time' could be empty                                 \n",
    "                        \"arrival_terminal\": item[\"arrival\"].get(\"terminal\", None),\n",
    "                        \"arrival_gate\": item[\"arrival\"].get(\"gate\", None),\n",
    "                        \"flight_number\": item.get(\"number\", None),\n",
    "                        \"retrieval_time\": retrieval_time\n",
    "                    }\n",
    "                    flight_items.append(flight_item)\n",
    "            \n",
    "            elif response.status_code == 204: # no content for this interval -> skip\n",
    "                pass\n",
    "\n",
    "            else:\n",
    "                print(f\"Error for {row['icao']} at {start_time}→{end_time}: {response.status_code}\") # error handling\n",
    "\n",
    "            _time.sleep(sleep_s) # sleep time between requests\n",
    "\n",
    "    flights_df = pd.DataFrame(flight_items)\n",
    "\n",
    "    # Ensure proper datetime format\n",
    "    flights_df[\"scheduled_arrival_time\"] = flights_df[\"scheduled_arrival_time\"].str[:-6] # time without UTC\n",
    "    flights_df[\"scheduled_arrival_time\"] = pd.to_datetime(flights_df[\"scheduled_arrival_time\"]) # convert to datetime format\n",
    "    flights_df[\"revised_arrival_time\"] = flights_df[\"revised_arrival_time\"].str[:-6] \n",
    "    flights_df[\"revised_arrival_time\"] = pd.to_datetime(flights_df[\"revised_arrival_time\"])\n",
    "    flights_df[\"retrieval_time\"] = pd.to_datetime(flights_df[\"retrieval_time\"]) # convert retrieval time to datetime format\n",
    "\n",
    "    return flights_df"
   ]
  },
  {
   "cell_type": "code",
   "execution_count": null,
   "id": "e6dbc136",
   "metadata": {},
   "outputs": [],
   "source": [
    "# call flight function for time range until tomorrow\n",
    "flights_df = get_flight_data(airports_df, days=2)"
   ]
  },
  {
   "cell_type": "code",
   "execution_count": null,
   "id": "fecf1a1e",
   "metadata": {},
   "outputs": [],
   "source": [
    "flights_df_cl = flights_df.drop_duplicates()\n",
    "flights_df_cl"
   ]
  },
  {
   "cell_type": "code",
   "execution_count": null,
   "id": "9c20cfce-3836-47f2-8fce-11ad4b641ce2",
   "metadata": {},
   "outputs": [],
   "source": [
    "flights_df_cl.info()"
   ]
  },
  {
   "cell_type": "markdown",
   "id": "eab5ac75-857a-47b3-aa8c-1355e3e3767d",
   "metadata": {},
   "source": [
    "### Send data to MySQL flights table"
   ]
  },
  {
   "cell_type": "code",
   "execution_count": null,
   "id": "0fe7417f-40be-476e-8e9c-72b9a7fa65df",
   "metadata": {},
   "outputs": [],
   "source": [
    "flights_df_cl.to_sql('flights',\n",
    "                 if_exists='append',\n",
    "                 index=False,\n",
    "                 con=connection_string)"
   ]
  }
 ],
 "metadata": {
  "kernelspec": {
   "display_name": "dsenv",
   "language": "python",
   "name": "python3"
  },
  "language_info": {
   "codemirror_mode": {
    "name": "ipython",
    "version": 3
   },
   "file_extension": ".py",
   "mimetype": "text/x-python",
   "name": "python",
   "nbconvert_exporter": "python",
   "pygments_lexer": "ipython3",
   "version": "3.13.0"
  }
 },
 "nbformat": 4,
 "nbformat_minor": 5
}
