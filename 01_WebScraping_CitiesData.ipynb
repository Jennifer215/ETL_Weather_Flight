{
 "cells": [
  {
   "cell_type": "markdown",
   "id": "3fb19b64",
   "metadata": {},
   "source": [
    "# Web Scraping - City Data "
   ]
  },
  {
   "cell_type": "code",
   "execution_count": null,
   "id": "b9d5cf0f",
   "metadata": {},
   "outputs": [],
   "source": [
    "# !pip install lat-lon-parser\n",
    "# !pip install sqlalchemy\n",
    "# !pip install pymysql\n",
    "# !pip install python-dotenv"
   ]
  },
  {
   "cell_type": "code",
   "execution_count": null,
   "id": "5ea6b55d",
   "metadata": {},
   "outputs": [],
   "source": [
    "import pandas as pd\n",
    "import requests\n",
    "from bs4 import BeautifulSoup\n",
    "from datetime import datetime\n",
    "from lat_lon_parser import parse"
   ]
  },
  {
   "cell_type": "markdown",
   "id": "87317e39",
   "metadata": {},
   "source": [
    "## 1. Get data for country, latitude, longitude"
   ]
  },
  {
   "cell_type": "code",
   "execution_count": null,
   "id": "4ae3026d",
   "metadata": {},
   "outputs": [],
   "source": [
    "# Berlin Example\n",
    "url = 'https://en.wikipedia.org/wiki/Berlin'\n",
    "response = requests.get(url)\n",
    "berlin_soup = BeautifulSoup(response.content,'html.parser')"
   ]
  },
  {
   "cell_type": "code",
   "execution_count": null,
   "id": "16202821",
   "metadata": {},
   "outputs": [],
   "source": [
    "# City's country -> stored in elements with class \"infobox-data\"\n",
    "# Check at which position the country occurs\n",
    "berlin_soup.find_all(class_=\"infobox-data\")"
   ]
  },
  {
   "cell_type": "code",
   "execution_count": null,
   "id": "f0f5a81e",
   "metadata": {},
   "outputs": [],
   "source": [
    "# get country for city\n",
    "berlin_country = berlin_soup.find(class_=\"infobox-data\").get_text(strip=True)\n",
    "berlin_country"
   ]
  },
  {
   "cell_type": "code",
   "execution_count": null,
   "id": "ad14336e",
   "metadata": {},
   "outputs": [],
   "source": [
    "# The latitude and longitude -> stored in elements with class \"latitude\" and \"longitude\"\n",
    "berlin_latitude = berlin_soup.find(class_='latitude').get_text()\n",
    "berlin_longitude = berlin_soup.find(class_='longitude').get_text()\n",
    "berlin_latitude, berlin_longitude"
   ]
  },
  {
   "cell_type": "code",
   "execution_count": null,
   "id": "4a100d46",
   "metadata": {},
   "outputs": [],
   "source": [
    "# convert latitude, longitude fo decimal coordinates\n",
    "from lat_lon_parser import parse\n",
    "parse(berlin_latitude)"
   ]
  },
  {
   "cell_type": "code",
   "execution_count": null,
   "id": "03f0d31a",
   "metadata": {},
   "outputs": [],
   "source": [
    "# Create a function to extract country, latitude, longitude data from Wikipedia page for a list of cities\n",
    "import pandas as pd\n",
    "import requests\n",
    "from bs4 import BeautifulSoup\n",
    "from lat_lon_parser import parse    # for decimal coordinates\n",
    "\n",
    "def cities_dataframe(cities):\n",
    "    \n",
    "    cities_data = []\n",
    "    \n",
    "    for city in cities:\n",
    "        url = f'https://www.wikipedia.org/wiki/{city}'\n",
    "        response = requests.get(url)\n",
    "        city_soup = BeautifulSoup(response.content, 'html.parser')\n",
    "    \n",
    "        # get country data\n",
    "        country = city_soup.find(class_=\"infobox-data\").get_text(strip=True)\n",
    "\n",
    "        # get latitude, longitude\n",
    "        city_latitude = city_soup.find(class_=\"latitude\").get_text()\n",
    "        city_longitude = city_soup.find(class_=\"longitude\").get_text()\n",
    "\n",
    "        cities_data.append({'city':city, \n",
    "                            'country': country, \n",
    "                            'latitude': parse(city_latitude), \n",
    "                            'longitude': parse(city_longitude)})\n",
    "    return pd.DataFrame(cities_data)"
   ]
  },
  {
   "cell_type": "code",
   "execution_count": null,
   "id": "ecac92f1",
   "metadata": {},
   "outputs": [],
   "source": [
    "# create data frame using cities_dataframe function\n",
    "cities = [\"Berlin\", \"Hamburg\", \"Munich\"]\n",
    "\n",
    "cities_df = cities_dataframe(cities)\n",
    "cities_df"
   ]
  },
  {
   "cell_type": "markdown",
   "id": "01e58ed1",
   "metadata": {},
   "source": [
    "## 2. Get data for population with time stamp"
   ]
  },
  {
   "cell_type": "code",
   "execution_count": null,
   "id": "8a2fde71",
   "metadata": {},
   "outputs": [],
   "source": [
    "# Berlin Example\n",
    "url = 'https://en.wikipedia.org/wiki/Berlin'\n",
    "response = requests.get(url)\n",
    "berlin_soup = BeautifulSoup(response.content,'html.parser')"
   ]
  },
  {
   "cell_type": "code",
   "execution_count": null,
   "id": "4f2c51ab",
   "metadata": {},
   "outputs": [],
   "source": [
    "# The population data follows the infobox-header 'Population'\n",
    "population_header = berlin_soup.find(string='Population')\n",
    "if population_header:\n",
    "    berlin_population = population_header.find_next('td').get_text(strip=True) # the number is in the next 'td' tag\n",
    "else:\n",
    "    berlin_population = None"
   ]
  },
  {
   "cell_type": "code",
   "execution_count": null,
   "id": "91388450",
   "metadata": {},
   "outputs": [],
   "source": [
    "# convert population into clean integer\n",
    "berlin_population_clean = int(berlin_population.replace(\",\", \"\"))\n",
    "berlin_population_clean"
   ]
  },
  {
   "cell_type": "code",
   "execution_count": null,
   "id": "24d6cca4",
   "metadata": {},
   "outputs": [],
   "source": [
    "# Create a function to extract population data with time stamp from Wikipedia page for cities_df\n",
    "\n",
    "import pandas as pd\n",
    "import requests\n",
    "from bs4 import BeautifulSoup\n",
    "from datetime import datetime\n",
    "\n",
    "def populations_dataframe(cities):\n",
    "    population_data = []\n",
    "\n",
    "    for city in cities:\n",
    "        url = f\"https://www.wikipedia.org/wiki/{city}\"\n",
    "        response = requests.get(url)\n",
    "        city_soup = BeautifulSoup(response.content, 'html.parser')\n",
    "\n",
    "        # get population data with time stamp\n",
    "        population_header = city_soup.find(string='Population')\n",
    "        if population_header:\n",
    "            population = population_header.find_next('td').get_text(strip=True) # the number is in the next 'td' tag\n",
    "        else:\n",
    "            population = None\n",
    "        population_clean = int(population.replace(\",\", \"\"))\n",
    "\n",
    "        # get today's date\n",
    "        today = datetime.today().strftime(\"%d.%m.%Y\")\n",
    "\n",
    "        # append a dictionary of values to the list\n",
    "        population_data.append({\"city\": city,\n",
    "                        \"population\": population_clean,\n",
    "                        \"population_timestamp\": today\n",
    "                        })\n",
    "    \n",
    "    population_df = pd.DataFrame(population_data)\n",
    "    population_df['population_timestamp'] = pd.to_datetime(population_df['population_timestamp'])\n",
    "    \n",
    "    return population_df"
   ]
  },
  {
   "cell_type": "code",
   "execution_count": null,
   "id": "a039b4b5",
   "metadata": {},
   "outputs": [],
   "source": [
    "# create data frame using cities_dataframe function\n",
    "cities = [\"Berlin\", \"Hamburg\", \"Munich\"]\n",
    "\n",
    "populations_df = populations_dataframe(cities)\n",
    "populations_df"
   ]
  },
  {
   "cell_type": "markdown",
   "id": "7cfa208e",
   "metadata": {},
   "source": [
    "## 3. Send scraped data to MySQL database"
   ]
  },
  {
   "cell_type": "code",
   "execution_count": null,
   "id": "e27a64ac",
   "metadata": {},
   "outputs": [],
   "source": [
    "# Setup schema \"city_infos\" and tables in MySQL first\n",
    "\n",
    "# Establish a connection with the MySQL database\n",
    "# import libraries\n",
    "from sqlalchemy import create_engine, text\n",
    "import os\n",
    "from dotenv import load_dotenv\n",
    "load_dotenv()\n",
    "\n",
    "# Connection setup\n",
    "schema = \"city_infos\"\n",
    "host = \"127.0.0.1\"\n",
    "user = \"root\"\n",
    "password = os.getenv(\"MYSQL_PASSWORD\") # password = \"YOUR_PASSWORD\"\n",
    "port = 3306\n",
    "\n",
    "# Create connection string\n",
    "connection_string = f'mysql+pymysql://{user}:{password}@{host}:{port}/{schema}'"
   ]
  },
  {
   "cell_type": "code",
   "execution_count": null,
   "id": "893e12fc",
   "metadata": {},
   "outputs": [],
   "source": [
    "cities_df.info()"
   ]
  },
  {
   "cell_type": "code",
   "execution_count": null,
   "id": "e04ef105",
   "metadata": {},
   "outputs": [],
   "source": [
    "# Send cities_df to MySQL database\n",
    "cities_df.to_sql(name='cities', con=connection_string, if_exists='append', index=False)"
   ]
  },
  {
   "cell_type": "code",
   "execution_count": null,
   "id": "71190878",
   "metadata": {},
   "outputs": [],
   "source": [
    "# Retrieve cities_df with their auto-generated IDs from MySQL database\n",
    "cities_in_db = pd.read_sql(\"SELECT * FROM cities\", con=connection_string) # retrieve data with auto-generated IDs\n",
    "merged_population_df = populations_df.merge(cities_in_db, on=\"city\", how=\"left\") # merge population_df with city_df\n",
    "final_population_df = merged_population_df[['city_id', 'population', 'population_timestamp']] # select needed columns\n",
    "final_population_df"
   ]
  },
  {
   "cell_type": "code",
   "execution_count": null,
   "id": "6230a251",
   "metadata": {},
   "outputs": [],
   "source": [
    "final_population_df.info()"
   ]
  },
  {
   "cell_type": "code",
   "execution_count": null,
   "id": "766b1603",
   "metadata": {},
   "outputs": [],
   "source": [
    "# Send population table to MySQL database\n",
    "final_population_df.to_sql('population', con=connection_string, if_exists='append', index=False)"
   ]
  }
 ],
 "metadata": {
  "kernelspec": {
   "display_name": "dsenv",
   "language": "python",
   "name": "python3"
  },
  "language_info": {
   "codemirror_mode": {
    "name": "ipython",
    "version": 3
   },
   "file_extension": ".py",
   "mimetype": "text/x-python",
   "name": "python",
   "nbconvert_exporter": "python",
   "pygments_lexer": "ipython3",
   "version": "3.13.0"
  }
 },
 "nbformat": 4,
 "nbformat_minor": 5
}
